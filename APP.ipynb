{
 "cells": [
  {
   "cell_type": "code",
   "execution_count": 3,
   "metadata": {},
   "outputs": [],
   "source": [
    "from __future__ import division, print_function\n",
    "import os\n",
    "import numpy as np\n",
    "from tensorflow.keras.models import load_model\n",
    "from tensorflow.keras.preprocessing import image\n",
    "from flask import Flask, render_template, request, session\n",
    "from flask_pymongo import PyMongo\n",
    "import bcrypt\n",
    "from werkzeug.utils import secure_filename"
   ]
  },
  {
   "cell_type": "code",
   "execution_count": null,
   "metadata": {},
   "outputs": [],
   "source": [
    "app = Flask(__name__)\n",
    "\n",
    "app.config['MONGO_DBNAME'] = 'Malaria'\n",
    "app.config['MONGO_URI'] = 'mongodb://127.0.0.1:27017/Malaria'\n",
    "mongo = PyMongo(app)"
   ]
  },
  {
   "cell_type": "code",
   "execution_count": null,
   "metadata": {},
   "outputs": [],
   "source": [
    "app = Flask(__name__)\n",
    "MODEL_PATH ='cnn_model.h5'\n",
    "model = load_model(MODEL_PATH)\n",
    "def model_predict(file_path,model):\n",
    "    img = image.load_img(file_path,target_size=(224, 224))\n",
    "    x = image.img_to_array(img)\n",
    "    x = x/255\n",
    "    x = np.expand_dims(x, axis=0)\n",
    "    preds = model.predict(x)\n",
    "    preds=np.argmax(preds, axis=1)\n",
    "    if preds==0:\n",
    "        preds = \"INFECTED\"\n",
    "    else:\n",
    "        preds = \"uninfected\"\n",
    "    return preds"
   ]
  },
  {
   "cell_type": "code",
   "execution_count": null,
   "metadata": {},
   "outputs": [],
   "source": [
    "@app.route('/',methods = ['POST','GET'])\n",
    "def index():\n",
    "    if 'email' in session:\n",
    "        return render_template('sw_features.html')    \n",
    "    return render_template('index_sw.html')"
   ]
  },
  {
   "cell_type": "code",
   "execution_count": null,
   "metadata": {},
   "outputs": [],
   "source": [
    "@app.route('/predict', methods=['GET', 'POST'])\n",
    "def predict():\n",
    "    msg = \"\"\n",
    "    if request.method == 'POST':\n",
    "        f = request.files['file']\n",
    "        basepath = os.path.dirname(f.filename)\n",
    "        file_path = os.path.join(basepath, 'uploads', secure_filename(f.filename))\n",
    "        f.save(file_path)\n",
    "        msg = model_predict(file_path,model)\n",
    "        session['status'] = msg\n",
    "        return render_template(\"sw_features.html\",msg = \"Result: \"+msg)\n",
    "    return None"
   ]
  },
  {
   "cell_type": "code",
   "execution_count": null,
   "metadata": {},
   "outputs": [],
   "source": [
    "@app.route('/login', methods=['POST','GET'])\n",
    "def login():\n",
    "    msg = \"\"\n",
    "    users = mongo.db.collection\n",
    "    login_user = users.find_one({'email' : request.form['email']})\n",
    "\n",
    "    if login_user:\n",
    "        if bcrypt.hashpw(request.form['password'].encode('utf-8'), login_user['password']) == login_user['password']:\n",
    "            session['email'] = request.form['email']\n",
    "            session['Name'] = login_user['Name']\n",
    "            session['status'] = 'unknown'\n",
    "            #return redirect(url_for('sw_features.html'))\n",
    "            return render_template('sw_features.html')\n",
    "    msg = 'Invalid username/password combination'\n",
    "    return render_template('index_sw.html',msg = msg)"
   ]
  },
  {
   "cell_type": "code",
   "execution_count": null,
   "metadata": {},
   "outputs": [],
   "source": [
    "@app.route('/register', methods=['POST', 'GET'])\n",
    "def register():\n",
    "    msg = \"\"\n",
    "    if request.method == 'POST':\n",
    "        users = mongo.db.collection\n",
    "        existing_user = users.find_one({'email' : request.form['email']})\n",
    "\n",
    "        if existing_user is None:\n",
    "            hashpass = bcrypt.hashpw(request.form['password'].encode('utf-8'), bcrypt.gensalt())\n",
    "            users.insert_one({'Name' : request.form['Name'],'email':request.form['email'], 'password' : hashpass,'Address':request.form['Address'],'status':'unknown'})\n",
    "            session['email'] = request.form['email']\n",
    "            session['status'] = 'unknown'\n",
    "            msg = \"You have successfully registered !!\"\n",
    "            #return redirect(url_for('index'))  #sending to index function\n",
    "            return render_template('index_sw.html',msg = msg)\n",
    "        msg = \"That email already exists!\"\n",
    "        return render_template('index_sw.html',msg = msg)\n",
    "\n",
    "    return render_template('register_sw.html',msg = msg)"
   ]
  },
  {
   "cell_type": "code",
   "execution_count": null,
   "metadata": {},
   "outputs": [],
   "source": [
    "@app.route('/logout') \n",
    "def logout(): \n",
    "    msg=\"\"\n",
    "    session.pop('email', None) \n",
    "    session.pop('Name', None) \n",
    "    return render_template('index_sw.html',msg = \"Successfully logged out\")"
   ]
  },
  {
   "cell_type": "code",
   "execution_count": null,
   "metadata": {},
   "outputs": [
    {
     "name": "stdout",
     "output_type": "stream",
     "text": [
      " * Serving Flask app '__main__' (lazy loading)\n",
      " * Environment: production\n",
      "\u001b[31m   WARNING: This is a development server. Do not use it in a production deployment.\u001b[0m\n",
      "\u001b[2m   Use a production WSGI server instead.\u001b[0m\n",
      " * Debug mode: off\n"
     ]
    },
    {
     "name": "stderr",
     "output_type": "stream",
     "text": [
      " * Running on http://127.0.0.1:5000/ (Press CTRL+C to quit)\n",
      "127.0.0.1 - - [26/Aug/2021 12:01:49] \"GET / HTTP/1.1\" 200 -\n",
      "127.0.0.1 - - [26/Aug/2021 12:01:49] \"GET /styles.css HTTP/1.1\" 404 -\n",
      "127.0.0.1 - - [26/Aug/2021 12:01:49] \"GET /static/css/template.css HTTP/1.1\" 304 -\n",
      "127.0.0.1 - - [26/Aug/2021 12:01:56] \"GET /logout HTTP/1.1\" 200 -\n",
      "127.0.0.1 - - [26/Aug/2021 12:01:57] \"GET /styles.css HTTP/1.1\" 404 -\n",
      "127.0.0.1 - - [26/Aug/2021 12:01:57] \"GET /static/css/template.css HTTP/1.1\" 304 -\n"
     ]
    },
    {
     "name": "stdout",
     "output_type": "stream",
     "text": [
      "<class 'flask_pymongo.wrappers.Collection'>\n"
     ]
    },
    {
     "name": "stderr",
     "output_type": "stream",
     "text": [
      "127.0.0.1 - - [26/Aug/2021 12:02:03] \"POST /login HTTP/1.1\" 200 -\n",
      "127.0.0.1 - - [26/Aug/2021 12:02:03] \"GET /styles.css HTTP/1.1\" 404 -\n",
      "127.0.0.1 - - [26/Aug/2021 12:02:03] \"GET /static/css/template.css HTTP/1.1\" 304 -\n"
     ]
    },
    {
     "name": "stdout",
     "output_type": "stream",
     "text": [
      "<class 'flask_pymongo.wrappers.Collection'>\n"
     ]
    },
    {
     "name": "stderr",
     "output_type": "stream",
     "text": [
      "127.0.0.1 - - [26/Aug/2021 12:02:08] \"POST /login HTTP/1.1\" 200 -\n",
      "127.0.0.1 - - [26/Aug/2021 12:02:08] \"GET /styles.css HTTP/1.1\" 404 -\n",
      "127.0.0.1 - - [26/Aug/2021 12:02:08] \"GET /static/css/template.css HTTP/1.1\" 304 -\n"
     ]
    }
   ],
   "source": [
    "if __name__ == '__main__':\n",
    "    app.secret_key = 'mysecret'\n",
    "    app.run()"
   ]
  }
 ],
 "metadata": {
  "interpreter": {
   "hash": "31387ffb2a384978908811c121e3482c80cb50de8e4d96cab70d38bb8c7cbca1"
  },
  "kernelspec": {
   "display_name": "Python 3.8.10 64-bit",
   "name": "python3"
  },
  "language_info": {
   "codemirror_mode": {
    "name": "ipython",
    "version": 3
   },
   "file_extension": ".py",
   "mimetype": "text/x-python",
   "name": "python",
   "nbconvert_exporter": "python",
   "pygments_lexer": "ipython3",
   "version": "3.9.7"
  }
 },
 "nbformat": 4,
 "nbformat_minor": 4
}
